{
 "cells": [
  {
   "cell_type": "code",
   "execution_count": 1,
   "id": "9ce687ae",
   "metadata": {},
   "outputs": [],
   "source": [
    "import pandas as pd"
   ]
  },
  {
   "cell_type": "code",
   "execution_count": 2,
   "id": "538fabd7",
   "metadata": {},
   "outputs": [],
   "source": [
    "def cafe():\n",
    "    sales_target = pd.read_csv('sales targets.csv')\n",
    "    outlets = pd.read_csv('sales_outlet.csv')\n",
    "    sales_receipts = pd.read_csv('201904 sales reciepts.csv')\n",
    "    product = pd.read_csv('product.csv')\n",
    "    staff = pd.read_csv('staff.csv')\n",
    "    customer = pd.read_csv('customer.csv')\n",
    "    \n",
    "    #No.1 Total sales per store in terms of revenue, excluding the warehouse\n",
    "    tot_sales_per_store = sales_per_store(sales_receipts)\n",
    "    print(f'(1). Total Sales per Store: \\n{tot_sales_per_store}\\n')\n",
    "    \n",
    "    #No.2 Total beans goal for all stores\n",
    "    total_beans_goal = bean_goals(sales_target)\n",
    "    print(f'(2). Total Beans Goal for all Stores = {total_beans_goal}\\n')\n",
    "    \n",
    "    #No 3. Store neighbourhood with the highest merchandise goal target\n",
    "    store_neighborhood = neighborhood(sales_target, outlets)\n",
    "    print(f'(3). Store neighbourhood with the highest merchandise goal target = {store_neighborhood}\\n')\n",
    "    \n",
    "    #No 4. Number of products sold per product group\n",
    "    num_prod_per_group = product_per_group(sales_receipts, product)\n",
    "    print(f'(4). Number of products sold per product group: \\n{num_prod_per_group}\\n')\n",
    "    \n",
    "    #No 5. Different employee positions in the company and number of employees per position\n",
    "    position_count = employee_position(staff)\n",
    "    print(f'(5). Different employee positions in the company and number of employees per position: \\n{position_count}\\n')\n",
    "    \n",
    "    #No 6. Most popular beverage product based on sales\n",
    "    most_popular_beverage = popular_beverage(product, sales_receipts, 'most')\n",
    "    print(f'(6). Most popular beverage product based on sales = {most_popular_beverage}\\n')\n",
    "\n",
    "    #No 7. Least popular beverage product based on sales\n",
    "    least_popular_beverage = popular_beverage(product, sales_receipts, 'least')\n",
    "    print(f'(7). Least popular beverage product based on sales = {least_popular_beverage}\\n')\n",
    "        \n",
    "    #No 8. How many customers belong to each store - customer's with a \"home\" store\n",
    "    customer_per_store = store_customers(customer)\n",
    "    print(f'(8). Number of customers belonging to each home store: \\n{customer_per_store}\\n')\n",
    "    \n",
    "    #No 9. Which stores do not have any home customers, excluding the warehouse\n",
    "    stores_no_home_cust = stores_without_home_customers(customer, outlets)\n",
    "    print(f'(9). Stores not having any home customers, excluding the warehouse: \\n{stores_no_home_cust}\\n')    \n",
    "    \n",
    "    #No 10. Determine the gender distribution of customers\n",
    "    cust_gender_dist = gender_dist(customer)\n",
    "    print(f'(10). The Gender Distribution of Customers (M or F): \\n{cust_gender_dist}\\n')    \n",
    "    "
   ]
  },
  {
   "cell_type": "code",
   "execution_count": 3,
   "id": "98540be5",
   "metadata": {},
   "outputs": [],
   "source": [
    "def sales_per_store(sales_receipts):\n",
    "    sales_receipts['Revenue'] = sales_receipts['quantity'] * sales_receipts['unit_price']\n",
    "    tot = sales_receipts[['sales_outlet_id', 'Revenue']].groupby('sales_outlet_id').sum().reset_index()\n",
    "    return tot"
   ]
  },
  {
   "cell_type": "code",
   "execution_count": 4,
   "id": "3d029576",
   "metadata": {},
   "outputs": [],
   "source": [
    "def bean_goals(sales_target):\n",
    "    bean_target = sales_target['beans_goal'].sum()\n",
    "    return bean_target"
   ]
  },
  {
   "cell_type": "code",
   "execution_count": 5,
   "id": "1865f527",
   "metadata": {},
   "outputs": [],
   "source": [
    "def neighborhood(sales_target, outlets):\n",
    "    s_id = sales_target['merchandise _goal'].max()\n",
    "    outlet_id = sales_target.sales_outlet_id[sales_target['merchandise _goal'] == s_id].tolist()\n",
    "    name = outlets.Neighorhood[outlets['sales_outlet_id'] == outlet_id[0]].tolist()\n",
    "    return name[0]"
   ]
  },
  {
   "cell_type": "code",
   "execution_count": 6,
   "id": "e1265153",
   "metadata": {},
   "outputs": [],
   "source": [
    "def product_per_group(sales_receipts, product):\n",
    "    prod_id = sales_receipts[['product_id', 'quantity']].groupby('product_id').sum().reset_index()\n",
    "    grp = product[['product_group', 'product_id']]\n",
    "    prod_group = grp.merge(prod_id, how='inner', on='product_id')\n",
    "    product_grp = prod_group[['product_group', 'quantity']].groupby('product_group').sum().reset_index()\n",
    "    return product_grp"
   ]
  },
  {
   "cell_type": "code",
   "execution_count": 7,
   "id": "19524a71",
   "metadata": {},
   "outputs": [],
   "source": [
    "def employee_position(staff):\n",
    "    st_count = staff['position'].value_counts()\n",
    "    return st_count"
   ]
  },
  {
   "cell_type": "code",
   "execution_count": 8,
   "id": "0d71674b",
   "metadata": {},
   "outputs": [],
   "source": [
    "def popular_beverage(product, sales_receipts, cond):\n",
    "    ids = product[['product_id', 'product_group', 'product']][product['product_group'] == 'Beverages']\n",
    "    prod_id = sales_receipts[['product_id', 'quantity']].groupby('product_id').sum().reset_index()\n",
    "    beverages = ids.merge(prod_id, how='inner', on='product_id')\n",
    "    most = beverages[beverages['product_id'] == beverages.product_id.max()]\n",
    "    least = beverages[beverages['product_id'] == beverages.product_id.min()]\n",
    "    most = most['product'].tolist()\n",
    "    least = least['product'].tolist()\n",
    "    if cond == 'most':\n",
    "        return most[0]\n",
    "    elif cond == 'least':\n",
    "        return least[0]"
   ]
  },
  {
   "cell_type": "code",
   "execution_count": 9,
   "id": "ad9bccea",
   "metadata": {},
   "outputs": [],
   "source": [
    "def store_customers(customer):\n",
    "    cust = customer[['home_store', 'customer_id']].groupby('home_store').count().reset_index()\n",
    "    cust['customer_count'] = cust['customer_id']\n",
    "    cust_count = cust[['home_store', 'customer_count']]\n",
    "    return cust_count"
   ]
  },
  {
   "cell_type": "code",
   "execution_count": 10,
   "id": "6ebf38ea",
   "metadata": {},
   "outputs": [],
   "source": [
    "def stores_without_home_customers(customer, outlets):\n",
    "    store_no = customer.home_store.unique()\n",
    "    no_home_cust = outlets[(outlets['sales_outlet_id'].isin(store_no) == False) & (outlets['sales_outlet_type'] != 'warehouse')]\n",
    "    return no_home_cust[['sales_outlet_id', 'store_address', 'sales_outlet_type']]"
   ]
  },
  {
   "cell_type": "code",
   "execution_count": 11,
   "id": "c102959c",
   "metadata": {},
   "outputs": [],
   "source": [
    "def gender_dist(customer):\n",
    "    cust_gender = customer[customer['gender'].isin(['M', 'F'])]\n",
    "    return cust_gender.gender.value_counts()"
   ]
  },
  {
   "cell_type": "code",
   "execution_count": 12,
   "id": "9aaadde4",
   "metadata": {},
   "outputs": [
    {
     "name": "stdout",
     "output_type": "stream",
     "text": [
      "(1). Total Sales per Store: \n",
      "   sales_outlet_id   Revenue\n",
      "0                3  77482.73\n",
      "1                5  77200.57\n",
      "2                8  79528.25\n",
      "\n",
      "(2). Total Beans Goal for all Stores = 6220\n",
      "\n",
      "(3). Store neighbourhood with the highest merchandise goal target = Lower Manhattan\n",
      "\n",
      "(4). Number of products sold per product group: \n",
      "     product_group  quantity\n",
      "0          Add-ons      3466\n",
      "1        Beverages     59105\n",
      "2             Food      7764\n",
      "3      Merchandise       255\n",
      "4  Whole Bean/Teas      1168\n",
      "\n",
      "(5). Different employee positions in the company and number of employees per position: \n",
      "Coffee Wrangler    40\n",
      "Store Manager      10\n",
      "Roaster             3\n",
      "CFO                 1\n",
      "CEO                 1\n",
      "Name: position, dtype: int64\n",
      "\n",
      "(6). Most popular beverage product based on sales = Ouro Brasileiro shot\n",
      "\n",
      "(7). Least popular beverage product based on sales = Our Old Time Diner Blend Sm\n",
      "\n",
      "(8). Number of customers belonging to each home store: \n",
      "   home_store  customer_count\n",
      "0           3             800\n",
      "1           5             945\n",
      "2           8             501\n",
      "\n",
      "(9). Stores not having any home customers, excluding the warehouse: \n",
      "   sales_outlet_id      store_address sales_outlet_type\n",
      "2                4   604 Union Street            retail\n",
      "4                6     122 E Broadway            retail\n",
      "5                7  224 E 57th Street            retail\n",
      "7                9     175 8th Avenue            retail\n",
      "8               10  183 W 10th Street            retail\n",
      "\n",
      "(10). The Gender Distribution of Customers (M or F): \n",
      "F    977\n",
      "M    726\n",
      "Name: gender, dtype: int64\n",
      "\n"
     ]
    }
   ],
   "source": [
    "cafe()"
   ]
  }
 ],
 "metadata": {
  "kernelspec": {
   "display_name": "Python 3 (ipykernel)",
   "language": "python",
   "name": "python3"
  },
  "language_info": {
   "codemirror_mode": {
    "name": "ipython",
    "version": 3
   },
   "file_extension": ".py",
   "mimetype": "text/x-python",
   "name": "python",
   "nbconvert_exporter": "python",
   "pygments_lexer": "ipython3",
   "version": "3.9.12"
  }
 },
 "nbformat": 4,
 "nbformat_minor": 5
}
