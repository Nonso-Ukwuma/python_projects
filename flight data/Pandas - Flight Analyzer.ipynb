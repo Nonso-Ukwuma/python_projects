{
 "cells": [
  {
   "cell_type": "code",
   "execution_count": 1,
   "id": "4ee57ca9",
   "metadata": {},
   "outputs": [],
   "source": [
    "def main():\n",
    "    import pandas as pd\n",
    "    flight = pd.read_csv('flights.csv')\n",
    "    airport = pd.read_csv('airports.csv')\n",
    "    flight = flight[flight['ORIGIN_AIRPORT'].isin(airport.IATA_CODE)]\n",
    "    flight = flight[flight['DESTINATION_AIRPORT'].isin(airport.IATA_CODE)]\n",
    "    \n",
    "    busiest_airport = busy_airport(flight, airport)\n",
    "    print(f'(No.1) The Busiest airport in the US = {busiest_airport}\\n')\n",
    "    \n",
    "    cancel, security, weather = cancel_delay(flight, airport)\n",
    "    print(f'(No.2a) The airport where you are most likely to experience flight delay due to Weather = {weather}\\n')\n",
    "    print(f'(No.2b) The airport where you are most likely to experience flight delay due to Security = {security}\\n')\n",
    "    print(f'(No.2c) The airport where you are most likely to experience flight Cancellation = {cancel}\\n')\n",
    "\n",
    "    prob_flight = flight_prob(flight)\n",
    "    print(f'(No.3) The probability that any jet is flying versus on the ground at any moment in time during the year  = {prob_flight:.2f}\\n')\n",
    "\n",
    "    active_flgt, avg_alt = flight_info()\n",
    "    print(f' (No. 4a) The number of flights currently in the air = {active_flgt}\\n')\n",
    "    print(f' (No. 4b) The average altitude of all flights currently in the air = {avg_alt:.2f}\\n')"
   ]
  },
  {
   "cell_type": "code",
   "execution_count": 2,
   "id": "2923dc2a",
   "metadata": {},
   "outputs": [],
   "source": [
    "def read_data():\n",
    "    flight = pd.read_csv('flights.csv')\n",
    "    airport = pd.read_csv('airports.csv')\n",
    "    flight = flight[flight['ORIGIN_AIRPORT'].isin(airport.IATA_CODE)]\n",
    "    flight = flight[flight['DESTINATION_AIRPORT'].isin(airport.IATA_CODE)]\n",
    "    \n",
    "    return flight, airport"
   ]
  },
  {
   "cell_type": "code",
   "execution_count": 3,
   "id": "71907e20",
   "metadata": {},
   "outputs": [],
   "source": [
    "def busy_airport(flight, airport):\n",
    "    busy = flight[['ORIGIN_AIRPORT' ,'DESTINATION_AIRPORT', 'DEPARTURE_TIME', 'ARRIVAL_TIME']].groupby(['ORIGIN_AIRPORT']).count().sort_values(by='DEPARTURE_TIME', ascending=False).reset_index()\n",
    "    b_airport = airport.AIRPORT[airport['IATA_CODE'] == busy.ORIGIN_AIRPORT[0]].to_list()\n",
    "    return b_airport[0]"
   ]
  },
  {
   "cell_type": "code",
   "execution_count": 8,
   "id": "93a249a4",
   "metadata": {},
   "outputs": [],
   "source": [
    "def cancel_delay(flight, airport):\n",
    "    flw = flight[flight['WEATHER_DELAY'] != 0.0]\n",
    "    fls = flight[flight['SECURITY_DELAY'] != 0.0]\n",
    "    flc = flight[flight['CANCELLED'] != 0.0]\n",
    "    cancelled = flc[['ORIGIN_AIRPORT', 'CANCELLED']].groupby('ORIGIN_AIRPORT').sum().sort_values(by='CANCELLED', ascending=False).reset_index()\n",
    "    sec_delay = fls[['ORIGIN_AIRPORT', 'SECURITY_DELAY']].groupby('ORIGIN_AIRPORT').sum().sort_values(by='SECURITY_DELAY', ascending=False).reset_index()\n",
    "    weath_delay = flw[['ORIGIN_AIRPORT', 'WEATHER_DELAY']].groupby('ORIGIN_AIRPORT').sum().sort_values(by='WEATHER_DELAY', ascending=False).reset_index()\n",
    "    canc_f = airport.AIRPORT[airport['IATA_CODE'] == cancelled.ORIGIN_AIRPORT[0]].to_list()\n",
    "    secur_del = airport.AIRPORT[airport['IATA_CODE'] == sec_delay.ORIGIN_AIRPORT[0]].to_list()\n",
    "    weather_del = airport.AIRPORT[airport['IATA_CODE'] == weath_delay.ORIGIN_AIRPORT[0]].to_list()\n",
    "    return canc_f[0], secur_del[0], weather_del[0]"
   ]
  },
  {
   "cell_type": "code",
   "execution_count": 5,
   "id": "a074bb86",
   "metadata": {},
   "outputs": [],
   "source": [
    "def flight_prob(flight):\n",
    "    ftime = flight.AIR_TIME.sum()\n",
    "    min_per_year = 525600\n",
    "    num_flights = flight.FLIGHT_NUMBER.nunique()\n",
    "    prob_fl = ((ftime/num_flights)/min_per_year) * 100\n",
    "    return prob_fl"
   ]
  },
  {
   "cell_type": "code",
   "execution_count": 6,
   "id": "e4a2a096",
   "metadata": {},
   "outputs": [],
   "source": [
    "def flight_info():\n",
    "    from flightradar24.api import FlightRadar24API\n",
    "    fr_api = FlightRadar24API()\n",
    "    airflights = fr_api.get_flights()\n",
    "    current_flights = []\n",
    "    for airflight in airflights:\n",
    "        if airflight.altitude > 0:\n",
    "            current_flights.append(airflight.altitude)\n",
    "        #print(airflight.altitude)\n",
    "    num_active_flights = len(current_flights)\n",
    "    avg_altitude = sum(current_flights)/num_active_flights\n",
    "    \n",
    "    return num_active_flights, avg_altitude"
   ]
  },
  {
   "cell_type": "code",
   "execution_count": 9,
   "id": "da14e685",
   "metadata": {},
   "outputs": [
    {
     "name": "stderr",
     "output_type": "stream",
     "text": [
      "C:\\Users\\Nonny\\AppData\\Local\\Temp\\ipykernel_1456\\1696191858.py:3: DtypeWarning: Columns (7,8) have mixed types. Specify dtype option on import or set low_memory=False.\n",
      "  flight = pd.read_csv('flights.csv')\n"
     ]
    },
    {
     "name": "stdout",
     "output_type": "stream",
     "text": [
      "(No.1) The Busiest airport in the US = Hartsfield-Jackson Atlanta International Airport\n",
      "\n",
      "(No.2a) The airport where you are most likely to experience flight delay due to Weather = Chicago O'Hare International Airport\n",
      "\n",
      "(No.2b) The airport where you are most likely to experience flight delay due to Security = Phoenix Sky Harbor International Airport\n",
      "\n",
      "(No.2c) The airport where you are most likely to experience flight Cancellation = Chicago O'Hare International Airport\n",
      "\n",
      "(No.3) The probability that any jet is flying versus on the ground at any moment in time during the year  = 16.27\n",
      "\n",
      " (No. 4a) The number of flights currently in the air = 1331\n",
      "\n",
      " (No. 4b) The average altitude of all flights currently in the air = 31792.04\n",
      "\n"
     ]
    }
   ],
   "source": [
    "main()"
   ]
  },
  {
   "cell_type": "code",
   "execution_count": null,
   "id": "10a90468",
   "metadata": {},
   "outputs": [],
   "source": []
  }
 ],
 "metadata": {
  "kernelspec": {
   "display_name": "Python 3 (ipykernel)",
   "language": "python",
   "name": "python3"
  },
  "language_info": {
   "codemirror_mode": {
    "name": "ipython",
    "version": 3
   },
   "file_extension": ".py",
   "mimetype": "text/x-python",
   "name": "python",
   "nbconvert_exporter": "python",
   "pygments_lexer": "ipython3",
   "version": "3.9.12"
  }
 },
 "nbformat": 4,
 "nbformat_minor": 5
}
